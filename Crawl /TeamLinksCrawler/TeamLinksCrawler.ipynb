{
  "nbformat": 4,
  "nbformat_minor": 0,
  "metadata": {
    "colab": {
      "provenance": []
    },
    "kernelspec": {
      "name": "python3",
      "display_name": "Python 3"
    },
    "language_info": {
      "name": "python"
    }
  },
  "cells": [
    {
      "cell_type": "code",
      "source": [
        "import requests \n",
        "from bs4 import BeautifulSoup\n",
        "import pandas as pd  \n",
        "import numpy as np "
      ],
      "metadata": {
        "id": "wQ5-DtVdrLxK"
      },
      "execution_count": null,
      "outputs": []
    },
    {
      "cell_type": "code",
      "execution_count": null,
      "metadata": {
        "id": "HpbgcFP9q-uQ"
      },
      "outputs": [],
      "source": [
        "#Crawl all the detailed page for each teams in first league \n",
        "# just need to select the league\n",
        "headers={'User-Agent': 'Mozilla/5.0 (Windows NT 10.0; Win64; x64) AppleWebKit/537.36 (KHTML, like Gecko) Chrome/102.0.0.0 Safari/537.36'}\n",
        "countryList=['EnglandLinks','FrenchLinks','SpainLinks','ItalianLinks','GermanLinks']\n",
        "countryLeague = ['https://www.transfermarkt.com/premier-league/startseite/wettbewerb/GB1/plus/?saison_id=',\n",
        "'https://www.transfermarkt.com/ligue-1/startseite/wettbewerb/FR1/plus/?saison_id=',\n",
        "'https://www.transfermarkt.com/laliga/startseite/wettbewerb/ES1/plus/?saison_id=',\n",
        "'https://www.transfermarkt.com/serie-a/startseite/wettbewerb/IT1/plus/?saison_id=',\n",
        "'https://www.transfermarkt.com/bundesliga/startseite/wettbewerb/L1/plus/?saison_id='\n",
        "] \n",
        "#Please select the index range of 1-4\n",
        "# index = 1\n",
        "for index in range(5):\n",
        "  listLink=[]\n",
        "  for year in range(2015,2022):\n",
        "      page = countryLeague[index]+str(year)\n",
        "      pageTree = requests.get(page , headers = headers)\n",
        "      pageSoup = BeautifulSoup(pageTree.content , 'html.parser')\n",
        "      allTeams = pageSoup.find_all(\"td\",{'class':\"hauptlink no-border-links\"})\n",
        "      for team in range(len(allTeams)):\n",
        "            test = requests.get('https://www.transfermarkt.com'+allTeams[team].a.get('href'),headers=headers)\n",
        "            s=BeautifulSoup(test.content,'html.parser')\n",
        "            part = s.find('a',{'class':'tm-tab'}).get('href')\n",
        "            link='https://www.transfermarkt.com'+part+'/plus/1'\n",
        "            listLink.append(link)\n",
        "  df=pd.DataFrame({countryList[index]:listLink})\n",
        "  df.to_parquet(countryList[index]+'.parquet',engine='pyarrow')"
      ]
    }
  ]
}