{
 "cells": [
  {
   "cell_type": "code",
   "execution_count": null,
   "id": "cd8402d1",
   "metadata": {},
   "outputs": [],
   "source": [
    "import numpy as np\n",
    "from bs4 import BeautifulSoup\n",
    "import requests\n",
    "import numpy as np \n",
    "import pandas as pd\n",
    "!pip install aiohttp"
   ]
  },
  {
   "cell_type": "code",
   "execution_count": null,
   "id": "61a26e19",
   "metadata": {},
   "outputs": [],
   "source": [
    "links = pd.read_parquet('allPlayersLink.parquet',engine='pyarrow')\n",
    "linksUnique =links['PlayersLink'].unique().tolist()\n",
    "index=0\n",
    "for index in range(len(linksUnique)):\n",
    "    linksUnique[index] = 'https://www.transfermarkt.com'+linksUnique[index].split('profil')[0]+'leistungsdatendetails'+linksUnique[index].split('profil')[1]"
   ]
  },
  {
   "cell_type": "code",
   "execution_count": null,
   "id": "9ef668e9",
   "metadata": {},
   "outputs": [],
   "source": [
    "# headers = {'User-Agent': 'Mozilla/5.0 (Macintosh; Intel Mac OS X 10_11_5) AppleWebKit/537.36 (KHTML, like Gecko) Chrome/50.0.2661.102 Safari/537.36'}\n"
   ]
  },
  {
   "cell_type": "code",
   "execution_count": null,
   "id": "54f00a51",
   "metadata": {},
   "outputs": [],
   "source": [
    "for i in range(0,9400,100)\n",
    "import asyncio\n",
    "import aiohttp\n",
    "import time\n",
    "import nest_asyncio\n",
    "nest_asyncio.apply()\n",
    "\n",
    "playersLink=[]\n",
    "index=0\n",
    "async def get(url, session):\n",
    "    try:\n",
    "        async with session.get(url=url) as response:\n",
    "            resp = await response.read()\n",
    "            pageSoup = BeautifulSoup(resp,'html.parser')\n",
    "            link = pageSoup.find_all('div',{'class':'tm-tabs'})[0].find_all('a')[1].get('href')\n",
    "            playersLink.append(link)\n",
    "          \n",
    "    except Exception as e:\n",
    "        print(\"Unable to get url {} due to {}.\".format(url, e.__class__))\n",
    "        uncatched1.append(url)\n",
    "connector = aiohttp.TCPConnector(limit=20)\n",
    "    \n",
    "\n",
    "async def main(urls):\n",
    "    async with aiohttp.ClientSession(connector=connector) as session:\n",
    "        ret = await asyncio.gather(*[get(url, session) for url in urls])\n",
    "    print(\"Finalized all. Return is a list of len {} outputs.\".format(len(ret)))\n",
    "    if(i==0):\n",
    "        df = pd.DataFrame({'playersLink':playersLink})\n",
    "    else :\n",
    "        df1 = pd.DataFrame({'playersLink':playersLink})\n",
    "        df = pd.concat([df,df1],axis=0)\n",
    "urls = linksUnique[i,i+100]\n",
    "start = time.time()\n",
    "asyncio.run(main(urls))\n",
    "end = time.time()\n",
    "\n",
    "print(\"Took {} seconds to pull {} websites.\".format(end - start, len(urls)))"
   ]
  },
  {
   "cell_type": "code",
   "execution_count": null,
   "id": "49097cf7",
   "metadata": {},
   "outputs": [],
   "source": [
    "df.to_parquet('playersDetailsLink.parquet',engine='pyarrow')"
   ]
  }
 ],
 "metadata": {
  "kernelspec": {
   "display_name": "Python 3 (ipykernel)",
   "language": "python",
   "name": "python3"
  },
  "language_info": {
   "codemirror_mode": {
    "name": "ipython",
    "version": 3
   },
   "file_extension": ".py",
   "mimetype": "text/x-python",
   "name": "python",
   "nbconvert_exporter": "python",
   "pygments_lexer": "ipython3",
   "version": "3.10.5"
  }
 },
 "nbformat": 4,
 "nbformat_minor": 5
}
