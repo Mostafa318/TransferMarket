{
 "cells": [
  {
   "cell_type": "code",
   "execution_count": 1,
   "id": "36f60191",
   "metadata": {},
   "outputs": [],
   "source": [
    "import asyncio\n",
    "import aiohttp\n",
    "import time\n",
    "import nest_asyncio\n",
    "import pandas as pd \n",
    "import numpy as np "
   ]
  },
  {
   "cell_type": "code",
   "execution_count": null,
   "id": "f037eda7",
   "metadata": {},
   "outputs": [],
   "source": [
    "l1=pd.read_parquet('./EnglandLinks.parquet')\n",
    "l2=pd.read_parquet('./FrenchLinks.parquet')\n",
    "l3=pd.read_parquet('./GermanLinks.parquet')\n",
    "l4=pd.read_parquet('./ItalianLinks.parquet')\n",
    "l5=pd.read_parquet('./SpainLinks.parquet')\n",
    "l1.columns={'1'}\n",
    "l2.columns={'1'}\n",
    "l3.columns={'1'}\n",
    "l4.columns={'1'}\n",
    "l5.columns={'1'}\n",
    "finalLinks = pd.concat([l1,l2,l3,l4,l5],axis=0)\n",
    "finalLinks.reset_index(drop=True,inplace=True)\n",
    "listman =[]\n",
    "for i in range(len(finalLinks)):\n",
    "    listman.append(finalLinks['1'].iloc[i])\n"
   ]
  },
  {
   "cell_type": "code",
   "execution_count": null,
   "id": "b8b7e67b",
   "metadata": {},
   "outputs": [],
   "source": [
    "nest_asyncio.apply()\n",
    "\n",
    "\n",
    "playersLink=[]\n",
    "index=0\n",
    "async def get(url, session):\n",
    "    try:\n",
    "        async with session.get(url=url) as response:\n",
    "            resp = await response.read()\n",
    "            pageSoup = BeautifulSoup(resp,'html.parser')\n",
    "            players = pageSoup.find_all(\"td\",{\"class\" : \"hauptlink\"})\n",
    "            i,j=0,0\n",
    "            while (i<len(players)):\n",
    "                try:\n",
    "                    playersLink.append(players[i].a.get('href'))\n",
    "                except:\n",
    "                    playersLink.append(np.nan)\n",
    "                i+=2\n",
    "            # print(url)\n",
    "\n",
    "    except Exception as e:\n",
    "        print(\"Unable to get url {} due to {}.\".format(url, e.__class__))\n",
    "\n",
    "\n",
    "async def main(urls):\n",
    "    async with aiohttp.ClientSession() as session:\n",
    "        ret = await asyncio.gather(*[get(url, session) for url in urls])\n",
    "    print(\"Finalized all. Return is a list of len {} outputs.\".format(len(ret)))\n",
    "    \n",
    "\n",
    "urls = listman\n",
    "start = time.time()\n",
    "asyncio.run(main(urls))\n",
    "end = time.time()\n",
    "\n",
    "print(\"Took {} seconds to pull {} websites.\".format(end - start, len(urls)))\n",
    "\n",
    "\n",
    "df = pd.DataFrame({'PlayersLink':playersLink})\n",
    "df.to_parquet('allPlayersLink.parquet',engine='pyarrow')"
   ]
  }
 ],
 "metadata": {
  "kernelspec": {
   "display_name": "Python 3 (ipykernel)",
   "language": "python",
   "name": "python3"
  },
  "language_info": {
   "codemirror_mode": {
    "name": "ipython",
    "version": 3
   },
   "file_extension": ".py",
   "mimetype": "text/x-python",
   "name": "python",
   "nbconvert_exporter": "python",
   "pygments_lexer": "ipython3",
   "version": "3.10.5"
  }
 },
 "nbformat": 4,
 "nbformat_minor": 5
}
