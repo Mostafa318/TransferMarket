{
  "nbformat": 4,
  "nbformat_minor": 0,
  "metadata": {
    "colab": {
      "provenance": []
    },
    "kernelspec": {
      "name": "python3",
      "display_name": "Python 3"
    },
    "language_info": {
      "name": "python"
    }
  },
  "cells": [
    {
      "cell_type": "code",
      "source": [
        "!sudo add-apt-repository ppa:saiarcot895/chromium-beta -y\n",
        "!sudo apt remove chromium-browser\n",
        "!sudo snap remove chromium\n",
        "!sudo apt install chromium-browser\n",
        "\n",
        "!pip3 install selenium\n",
        "!apt-get update\n",
        "!apt install chromium-chromedriver\n",
        "!cp /usr/lib/chromium-browser/chromedriver /usr/bin\n",
        "\n",
        "import sys\n",
        "sys.path.insert(0,'/usr/lib/chromium-browser/chromedriver')\n",
        "from selenium import webdriver\n",
        "chrome_options = webdriver.ChromeOptions()\n",
        "chrome_options.add_argument('--headless')\n",
        "chrome_options.add_argument('--no-sandbox')\n",
        "chrome_options.add_argument('--disable-dev-shm-usage')\n",
        "driver = webdriver.Chrome('chromedriver',chrome_options=chrome_options)"
      ],
      "metadata": {
        "id": "gC_CVBR6fd9u"
      },
      "execution_count": null,
      "outputs": []
    },
    {
      "cell_type": "code",
      "execution_count": null,
      "metadata": {
        "id": "CvYn7A6GfbTP"
      },
      "outputs": [],
      "source": [
        "# TABLE PREMIER LEAGUE for each years in specific Country \n",
        "# driver = webdriver.Chrome()\n",
        "countryList=['premier-league','ligue-1','laliga','serie-a','bundesliga']\n",
        "countryLeague = ['https://www.transfermarkt.com/premier-league/startseite/wettbewerb/GB1/plus/?saison_id=',\n",
        "'https://www.transfermarkt.com/ligue-1/startseite/wettbewerb/FR1/plus/?saison_id=',\n",
        "'https://www.transfermarkt.com/laliga/startseite/wettbewerb/ES1/plus/?saison_id=',\n",
        "'https://www.transfermarkt.com/serie-a/startseite/wettbewerb/IT1/plus/?saison_id=',\n",
        "'https://www.transfermarkt.com/bundesliga/startseite/wettbewerb/L1/plus/?saison_id=']\n",
        "\n",
        "for index in range(len(countryLeague)):\n",
        "    position,years,teamName,matches,total,pts,teamId,leagueName=[],[],[],[],[],[],[],[]\n",
        "    for i in range(2015,2022):\n",
        "        link = countryLeague[index]+str(i)\n",
        "        driver.get(link)\n",
        "        html = driver.page_source;\n",
        "        reSoup = BeautifulSoup(html,'html.parser')\n",
        "        reSoup.select('#yw4 > table > tbody')\n",
        "        search=reSoup.select('#yw4 > table > tbody')[0].find_all('tr')\n",
        "        for j in range(len(search)):\n",
        "            years.append(int(i))\n",
        "            leagueName.append(countryList[index])\n",
        "            position.append(search[j].find_all(\"td\")[0].text.strip())\n",
        "            teamName.append(search[j].find_all(\"td\")[2].a.get('title'))\n",
        "            teamId.append(search[j].find_all(\"td\")[2].a.get('href').split('/verein/')[1].split('/saison_id/')[0])\n",
        "            matches.append(search[j].find_all(\"td\")[3].text)\n",
        "            total.append(search[j].find_all(\"td\")[4].text)\n",
        "            pts.append(search[j].find_all(\"td\")[5].text)\n",
        "    if(index==0):\n",
        "        df=pd.DataFrame({'leagueName':leagueName,'season':years,'teamId':teamId,'teamName':teamName,'position':position,'matches':matches,'total':total,'pts':pts})\n",
        "    else:\n",
        "        df1= pd.DataFrame({'leagueName':leagueName,'season':years,'teamId':teamId,'teamName':teamName,'position':position,'matches':matches,'total':total,'pts':pts})\n",
        "        df=pd.concat([df,df1],axis=0)\n",
        "df.reset_index(drop=True)\n",
        "df.to_parquet('AllTeamTablePosition.parquet',engine='pyarrow')\n"
      ]
    }
  ]
}