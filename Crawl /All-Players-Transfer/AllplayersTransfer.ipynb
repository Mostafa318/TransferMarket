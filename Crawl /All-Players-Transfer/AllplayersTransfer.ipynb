{
  "cells": [
    {
      "cell_type": "code",
      "execution_count": null,
      "metadata": {
        "id": "V8mjgedNs-HN"
      },
      "outputs": [],
      "source": [
        "import numpy as np\n",
        "from bs4 import BeautifulSoup\n",
        "import requests\n",
        "import numpy as np \n",
        "import pandas as pd\n",
        "!pip install aiohttp"
      ]
    },
    {
      "cell_type": "code",
      "execution_count": null,
      "metadata": {
        "id": "UF2p8bLjRULe"
      },
      "outputs": [],
      "source": [
        "linksUnique = pd.read_parquet('allPlayersLink.parquet')['PlayersLink'].unique().tolist()\n",
        "for i in range(len(linksUnique)):\n",
        "  linksUnique[i] = 'https://www.transfermarkt.com'+linksUnique[i]\n"
      ]
    },
    {
      "cell_type": "code",
      "execution_count": null,
      "metadata": {
        "colab": {
          "base_uri": "https://localhost:8080/"
        },
        "id": "l0enKBXhRZbr",
        "outputId": "e236796b-b2ad-42e9-c78e-eae940dd9ded"
      },
      "outputs": [],
      "source": [
        "start = time.time()\n",
        "test = pd.read_parquet('totalPlayers.parquet',engine='pyarrow')\n",
        "for i in range(0,9400,100):\n",
        "  import asyncio\n",
        "  import aiohttp\n",
        "  import time\n",
        "  import nest_asyncio\n",
        "  nest_asyncio.apply()\n",
        "\n",
        "  playersLink=[]\n",
        "  index=0\n",
        "  playersId , playersName , season_ , date_ , left_,joined_, mv_ , fee_ = [],[],[],[],[],[],[],[]\n",
        "\n",
        "  async def get(url, session):\n",
        "      try:\n",
        "          async with session.get(url=url) as response:\n",
        "              resp = await response.read()\n",
        "              id1=url.split('profil/spieler/')[1]\n",
        "              name=test[test['playersId']==id1]['playersName'].iloc[0]\n",
        "              pageSoup = BeautifulSoup(resp,'html.parser')\n",
        "              TransferData = pageSoup.find_all('div',{'class':'box viewport-tracking'})[1]\n",
        "              season  = TransferData.find_all('div',{'class':'grid__cell grid__cell--center tm-player-transfer-history-grid__season'})\n",
        "              date = TransferData.find_all('div',{'class':'grid__cell grid__cell--center tm-player-transfer-history-grid__date'})\n",
        "              left = TransferData.find_all('div',{'class':'grid__cell grid__cell--center tm-player-transfer-history-grid__old-club'})\n",
        "              joined = TransferData.find_all('div',{'grid__cell grid__cell--center tm-player-transfer-history-grid__new-club'})\n",
        "              mv = TransferData.find_all('div',{'class':'grid__cell grid__cell--center tm-player-transfer-history-grid__market-value'})\n",
        "              fee = TransferData.find_all('div',{'class':'grid__cell grid__cell--center tm-player-transfer-history-grid__fee'})\n",
        "              for i in range(len(season)):\n",
        "                  playersId.append(id1)\n",
        "                  playersName.append(name)\n",
        "                  try:\n",
        "                    season_.append(season[i].text.strip())\n",
        "                  except:\n",
        "                    season_.append(np.nan)\n",
        "                  try:\n",
        "                    date_.append(date[i].text.strip())\n",
        "                  except:\n",
        "                    date_.append(np.nan)\n",
        "                  try:\n",
        "                    left_.append([left[i].text.strip(),left[i].a.get('href').split('transfers/verein/')[1].split('/')[0]])\n",
        "                  except:\n",
        "                    left_.append(np.nan)\n",
        "                  try:\n",
        "                    joined_.append([joined[i].text.strip(),joined[i].a.get('href').split('transfers/verein/')[1].split('/')[0]])\n",
        "                  except:\n",
        "                    joined_.append(np.nan)\n",
        "                  try:\n",
        "                    mv_.append(mv[i].text.strip())\n",
        "                  except:\n",
        "                    mv_.append(np.nan)\n",
        "                  try:\n",
        "                    fee_.append(fee[i].text.strip())\n",
        "                  except:\n",
        "                    fee_.append(np.nan)\n",
        "      except Exception as e:\n",
        "          print(\"Unable to get url {} due to {}.\".format(url, e.__class__))\n",
        "  connector = aiohttp.TCPConnector(limit=20)\n",
        "      \n",
        "\n",
        "  async def main(urls):\n",
        "      async with aiohttp.ClientSession(connector=connector) as session:\n",
        "          ret = await asyncio.gather(*[get(url, session) for url in urls])\n",
        "      print(\"Finalized all. Return is a list of len {} outputs.\".format(len(ret)))\n",
        "      if(i==0):\n",
        "        df = pd.DataFrame({'playersId':playersId,'season':season_ , 'date':date_ , 'left':left_ , 'joined':joined_ ,\\\n",
        "          'mv':mv_ , 'fee':fee_})\n",
        "      else :\n",
        "        df1 = pd.DataFrame({'playersId':playersId,'season':season_ , 'date':date_ , 'left':left_ , 'joined':joined_ ,\\\n",
        "          'mv':mv_ , 'fee':fee_})\n",
        "        df=pd.concat([df,df1],axis=0)\n",
        "\n",
        "\n",
        "\n",
        "  urls = linksUnique[i:i+100]\n",
        "  asyncio.run(main(urls))\n",
        "\n",
        "end = time.time()\n",
        "print(\"Took {} seconds to pull {} websites.\".format(end - start, len(urls)))"
      ]
    },
    {
      "cell_type": "code",
      "execution_count": null,
      "metadata": {
        "id": "Hc5HgA90YMKI"
      },
      "outputs": [],
      "source": [
        "df.to_parquet('AllplayersTransferFinal.parquet',engine='pyarrow')"
      ]
    },
    {
      "cell_type": "code",
      "execution_count": null,
      "metadata": {
        "id": "LsYqkkerlzXG"
      },
      "outputs": [],
      "source": []
    },
    {
      "cell_type": "code",
      "execution_count": null,
      "metadata": {
        "id": "cPIwAwqsRhh8"
      },
      "outputs": [],
      "source": []
    }
  ],
  "metadata": {
    "colab": {
      "provenance": []
    },
    "kernelspec": {
      "display_name": "Python 3",
      "name": "python3"
    },
    "language_info": {
      "name": "python"
    }
  },
  "nbformat": 4,
  "nbformat_minor": 0
}
