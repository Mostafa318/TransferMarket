{
  "nbformat": 4,
  "nbformat_minor": 0,
  "metadata": {
    "colab": {
      "provenance": []
    },
    "kernelspec": {
      "name": "python3",
      "display_name": "Python 3"
    },
    "language_info": {
      "name": "python"
    }
  },
  "cells": [
    {
      "cell_type": "code",
      "execution_count": null,
      "metadata": {
        "id": "aGhL6ea2AIkA"
      },
      "outputs": [],
      "source": [
        "# !pip install selenium\n",
        "# !apt-get update \n",
        "# !apt install chromium-chromedriver\n",
        "\n",
        "from selenium import webdriver\n",
        "# chrome_options = webdriver.ChromeOptions()\n",
        "# chrome_options.add_argument('--headless')\n",
        "# chrome_options.add_argument('--no-sandbox')\n",
        "# chrome_options.add_argument('--disable-dev-shm-usage')\n",
        "# driver = webdriver.Chrome('chromedriver',chrome_options=chrome_options)"
      ]
    },
    {
      "cell_type": "code",
      "source": [
        "# !sudo add-apt-repository ppa:saiarcot895/chromium-beta -y\n",
        "# !sudo apt remove chromium-browser\n",
        "# !sudo snap remove chromium\n",
        "# !sudo apt install chromium-browser\n",
        "\n",
        "# !pip3 install selenium\n",
        "# !apt-get update\n",
        "# !apt install chromium-chromedriver\n",
        "# !cp /usr/lib/chromium-browser/chromedriver /usr/bin\n",
        "\n",
        "# import sys\n",
        "# sys.path.insert(0,'/usr/lib/chromium-browser/chromedriver')\n",
        "\n"
      ],
      "metadata": {
        "id": "cpj4uX3rAnTR"
      },
      "execution_count": null,
      "outputs": []
    },
    {
      "cell_type": "code",
      "source": [],
      "metadata": {
        "id": "913Guve1EduD"
      },
      "execution_count": null,
      "outputs": []
    },
    {
      "cell_type": "code",
      "source": [
        "# driver = webdriver.Chrome('chromedriver',chrome_options=chrome_options)\n",
        "import requests \n",
        "from bs4 import BeautifulSoup\n",
        "import pandas as pd  \n",
        "import numpy as np "
      ],
      "metadata": {
        "id": "nJwFIAhiDVAg"
      },
      "execution_count": null,
      "outputs": []
    },
    {
      "cell_type": "code",
      "source": [
        "\n",
        "driver = webdriver.Chrome('chromedriver',chrome_options=chrome_options)\n",
        "listLinks = ['FrenchLinks.parquet','GermanLinks.parquet','ItalianLinks.parquet','SpainLinks.parquet']\n",
        "countryList=['ligue-1','bundesliga','serie-a','laliga']\n",
        "country=0\n",
        "for list1 in listLinks:\n",
        "  listLink = pd.read_parquet(list1,engine='pyarrow')\n",
        "  for index in range(len(listLink)):\n",
        "      page = listLink.iloc[index].values[0]\n",
        "      driver.get(page)\n",
        "      html = driver.page_source;\n",
        "      reSoup = BeautifulSoup(html,'html.parser')\n",
        "      pageSoup=reSoup\n",
        "      years , position , playersName,playersId,playersValue , dateBirth , nationality , currentClub , height\\\n",
        "      , foot , joined , signedFrom , Contract , marketValue =[],[],[],[],[],[],[],[],[],[],[],[],[],[]\n",
        "\n",
        "      teamName=[]\n",
        "      teamTablePosition=[]\n",
        "      teamSquadSize=[]\n",
        "      teamAverageAge=[]\n",
        "      teamForeigners=[]\n",
        "      teamNationalPlayer=[]\n",
        "      teamStadium=[]\n",
        "      stadiumCapacity=[]\n",
        "      currentTransferRecord=[]\n",
        "      teamAwards =[]\n",
        "      teamTotalMarketValue=[]\n",
        "      teamId1 = [] \n",
        "      teamForeignersPercent=[]\n",
        "      \n",
        "      players = pageSoup.find_all(\"td\",{\"class\" : \"hauptlink\"})\n",
        "      year = listLink.iloc[index].values[0].split('/saison_id/')[1].split('/')[0]\n",
        "      teamId = listLink.iloc[index].values[0].split('/kader/verein/')[1].split('/saison')[0]\n",
        "      try:\n",
        "              teamTablePosition.append(reSoup.select('#main > main > header > div.data-header__box--big > div > span:nth-child(3)')[0].a.text)\n",
        "      except:\n",
        "          teamTablePosition.append(np.nan)\n",
        "      try:\n",
        "          teamSquadSize.append(reSoup.find_all('li',{'class':'data-header__label'})[0].span.text.strip())\n",
        "      except:\n",
        "          teamSquadSize.append(np.nan)\n",
        "      try:\n",
        "          teamAverageAge.append(reSoup.find_all('li',{'class':'data-header__label'})[1].span.text.strip())\n",
        "      except:\n",
        "          teamAverageAge.append(np.nan)\n",
        "      try:   \n",
        "          teamForeigners.append(reSoup.find_all('li',{'class':'data-header__label'})[2].span.text.strip().split('\\xa0\\xa0')[0])\n",
        "      except:\n",
        "          teamForeigners.append(np.nan)\n",
        "      try:\n",
        "          teamNationalPlayer.append(reSoup.find_all('li',{'class':'data-header__label'})[3].span.text.strip())\n",
        "      except:\n",
        "          teamNationalPlayer.append(np.nan)\n",
        "      try:\n",
        "          teamStadium.append(reSoup.find_all('li',{'class':'data-header__label'})[4].span.text.strip().split('\\xa0\\xa0')[0])\n",
        "      except:\n",
        "          teamStadium.append(np.nan)\n",
        "      try:\n",
        "          stadiumCapacity.append(reSoup.find_all('li',{'class':'data-header__label'})[4].span.text.strip().split('\\xa0\\xa0')[1])\n",
        "      except:\n",
        "          stadiumCapacity.append(np.nan)\n",
        "      try:\n",
        "          currentTransferRecord.append(reSoup.find_all('li',{'class':'data-header__label'})[5].a.text)\n",
        "      except:\n",
        "          currentTransferRecord.append(np.nan)\n",
        "      try:\n",
        "          teamTotalMarketValue.append (reSoup.find_all('div',{'class':'data-header__box--small'})[0].text.strip().split('\\n')[0])\n",
        "      except:\n",
        "          teamTotalMarketValue.append(np.nan)\n",
        "      try:\n",
        "          teamAwards.append([img.get('alt') for img in reSoup.find_all('div',{'class':'data-header__badge-container'})[0].find_all('img')])\n",
        "      except:\n",
        "          teamAwards.append(np.nan)\n",
        "      try:\n",
        "          teamForeignersPercent.append(reSoup.find_all('li',{'class':'data-header__label'})[2].span.text.strip().split('\\xa0\\xa0')[1])\n",
        "      except:\n",
        "          teamForeignersPercent.append(np.nan)\n",
        "\n",
        "      \n",
        "\n",
        "      i,j=0,0\n",
        "      while (i<len(players)):\n",
        "          try:\n",
        "              playersId.append(players[i].a.get('href').split(\"/spieler/\")[1])\n",
        "          except:\n",
        "              playersId.append(np.nan)\n",
        "          try:\n",
        "              playersName.append(players[i].a.text.split(\"\\n\")[1].strip(' '))\n",
        "          except:\n",
        "              playersName.append(np.nan)\n",
        "          try:   \n",
        "              playersValue.append(players[i+1].text)\n",
        "          except:\n",
        "              playersValue.append(np.nan)\n",
        "          i+=2\n",
        "          years.append(year)\n",
        "          try:\n",
        "              position.append(reSoup.find_all(\"td\",{\"class\": 'posrela'})[j].tbody.find_all('td')[2].text.split()[0])\n",
        "          except:\n",
        "              position.append(np.nan)\n",
        "          j+=1\n",
        "          try:\n",
        "              teamName.append(reSoup.find_all('div',{'class':'data-header__headline-container'})[0].h1.text.strip())\n",
        "          except:\n",
        "              teamName.append(np.nan)\n",
        "          try:\n",
        "              teamId1.append(teamId)\n",
        "          except:\n",
        "              teamId1.append(np.nan)\n",
        "          \n",
        "      shirtNumber,playersAge,playersBornDate,nationality,currentClub,height,foot\\\n",
        "      ,joined,signedFrom,contract = [],[],[],[],[],[],[],[],[],[]\n",
        "      features = pageSoup.find_all(\"td\",{\"class\" : \"zentriert\"})\n",
        "      i=0\n",
        "      while(i<len(features)):\n",
        "          try:\n",
        "              shirtNumber.append(features[i].text)\n",
        "          except:\n",
        "              shirtNumber.append(np.nan)\n",
        "          try:\n",
        "              playersAge.append(features[i+1].text.split('(')[1].strip(')'))\n",
        "          except:\n",
        "              playersAge.append(np.nan)\n",
        "          try:\n",
        "              playersBornDate.append(features[i+1].text.split('(')[0])\n",
        "          except:\n",
        "              playersBornDate.append(np.nan)\n",
        "          try:\n",
        "              nationality.append([j.get('title') for j in features[i+2].find_all('img')])\n",
        "          except:\n",
        "              nationality.append(np.nan)\n",
        "          # print(i)\n",
        "          try:\n",
        "              currentClub.append(features[i+3].a.get('title'))\n",
        "          except Exception:\n",
        "              currentClub.append('Retired')\n",
        "          try:\n",
        "              height.append(features[i+4].text)\n",
        "          except:\n",
        "              height.append(np.nan)\n",
        "          try:\n",
        "              foot.append(features[i+5].text)\n",
        "          except:\n",
        "              foot.append(np.nan)\n",
        "          try:\n",
        "              joined.append(features[i+6].text)\n",
        "          except:\n",
        "              joined.append(np.nan)\n",
        "          try:\n",
        "              signedFrom.append(features[i+7].img.get('alt'))\n",
        "          except Exception:\n",
        "              signedFrom.append(np.nan)\n",
        "          contract.append(features[i+8].text)\n",
        "          i+=9\n",
        "      leaguName = countryList[country]\n",
        "      if index==0:\n",
        "          df1 = pd.DataFrame({'legueName':leaguName,'teamName':teamName,'season':years,'teamId':teamId1,'playersId':playersId ,'shirtNumber':shirtNumber, 'playersName':playersName , 'position':position , 'bornDate':playersBornDate , 'age':playersAge , 'nationality':nationality,'currentClub':currentClub,\\\n",
        "              'height':height,'foot':foot,'join':joined,'signedFrom':signedFrom,'contract':contract,'marketValues':playersValue})\n",
        "          dfTeamf = pd.DataFrame({'legueName':leaguName,'teamName':teamName[0],'season':years[0],'teamId':teamId1[0],'squad':teamSquadSize[0]\\\n",
        "              ,'averageAge':teamAverageAge,'foreigners':teamForeigners ,'foreignersPercent':teamForeignersPercent, 'nationalPlayer':teamNationalPlayer,\\\n",
        "                  'teamStadium':teamStadium,'stadiumCapacity':stadiumCapacity,'currentTransferRecord':currentTransferRecord,'teamAwards':teamAwards,'marketValue':teamTotalMarketValue})\n",
        "      else : \n",
        "          df =  pd.DataFrame({'legueName':leaguName,'teamName':teamName,'season':years,'teamId':teamId1,'playersId':playersId ,'shirtNumber':shirtNumber, 'playersName':playersName , 'position':position , 'bornDate':playersBornDate , 'age':playersAge , 'nationality':nationality,'currentClub':currentClub,\\\n",
        "              'height':height,'foot':foot,'join':joined,'signedFrom':signedFrom,'contract':contract,'marketValues':playersValue})\n",
        "          df1= pd.concat([df1,df],axis=0)\n",
        "          dfTeam = pd.DataFrame({'legueName':leaguName,'teamName':teamName[0],'season':years[0],'teamId':teamId1[0],'squad':teamSquadSize[0]\\\n",
        "              ,'averageAge':teamAverageAge,'foreigners':teamForeigners ,'foreignersPercent':teamForeignersPercent, 'nationalPlayer':teamNationalPlayer,\\\n",
        "                  'teamStadium':teamStadium,'stadiumCapacity':stadiumCapacity,'currentTransferRecord':currentTransferRecord,'teamAwards':teamAwards,'marketValue':teamTotalMarketValue})\n",
        "          dfTeamf=pd.concat([dfTeamf,dfTeam],axis=0)\n",
        "      print(page)\n",
        "  country+=1\n",
        "  dfTeamf.reset_index(drop=True)\n",
        "  df1.reset_index(drop=True)\n",
        "  name = list1.split('Links')[0]\n",
        "  dfTeamf.to_parquet(name+'TeamsDetail.parquet',engine='pyarrow')\n",
        "  df1.to_parquet(name+'Players.parquet',engine='pyarrow')\n",
        "  "
      ],
      "metadata": {
        "id": "TV7gOtPPEVeb"
      },
      "execution_count": null,
      "outputs": []
    },
    {
      "cell_type": "code",
      "source": [
        "listLinks = ['EnglandLinks.parquet','FrenchLinks.parquet','GermanLinks.parquet','ItalianLinks.parquet','SpainLinks.parquet']\n",
        "listLinks[0].split('Links')[0]"
      ],
      "metadata": {
        "colab": {
          "base_uri": "https://localhost:8080/",
          "height": 36
        },
        "id": "SNstIE9CFsxO",
        "outputId": "8e628a47-5196-49ff-eff0-066a103014b6"
      },
      "execution_count": null,
      "outputs": [
        {
          "output_type": "execute_result",
          "data": {
            "text/plain": [
              "'England'"
            ],
            "application/vnd.google.colaboratory.intrinsic+json": {
              "type": "string"
            }
          },
          "metadata": {},
          "execution_count": 13
        }
      ]
    },
    {
      "cell_type": "code",
      "source": [
        "df1.reset_index(drop=True)\n",
        "dfTeamf.reset_index(drop=True)\n",
        "name = list1.split('Links')[0]\n",
        "dfTeamf.to_parquet(name+'TeamsDetail.parquet',engine='pyarrow')\n",
        "df1.to_parquet(name+'Players.parquet',engine='pyarrow')\n"
      ],
      "metadata": {
        "id": "R_JUxtALK3Nr"
      },
      "execution_count": null,
      "outputs": []
    },
    {
      "cell_type": "code",
      "source": [
        "p1=pd.read_parquet('EnglandPlayers.parquet',engine='pyarrow')\n",
        "p2=pd.read_parquet('FrenchPlayers.parquet',engine='pyarrow')\n",
        "p3=pd.read_parquet('SpainPlayers.parquet',engine='pyarrow')\n",
        "p4=pd.read_parquet('GermanPlayers.parquet',engine='pyarrow')\n",
        "p5=pd.read_parquet('ItalianPlayers.parquet',engine='pyarrow')\n",
        "t1=pd.read_parquet('EnglandTeamsDetail.parquet',engine='pyarrow')\n",
        "t2=pd.read_parquet('FrenchTeamsDetail.parquet',engine='pyarrow')\n",
        "t3=pd.read_parquet('SpainTeamsDetail.parquet',engine='pyarrow')\n",
        "t4=pd.read_parquet('ItalianTeamsDetail.parquet',engine='pyarrow')\n",
        "t5=pd.read_parquet('GermanTeamsDetail.parquet',engine='pyarrow')"
      ],
      "metadata": {
        "id": "9CQ8068YZCg4"
      },
      "execution_count": null,
      "outputs": []
    },
    {
      "cell_type": "code",
      "source": [
        "totalPlayers = pd.concat([p1,p2,p3,p4,p5],axis=0).reset_index(drop=True)\n",
        "totalTeams = pd.concat([t1,t2,t3,t4,t5],axis=0).reset_index(drop=True)\n",
        "totalPlayers.to_parquet('totalPlayers.parquet',engine='pyarrow')\n",
        "totalTeams.to_parquet('totalTeamsDetail.parquet',engine='pyarrow')\n",
        "totalTeams"
      ],
      "metadata": {
        "id": "3kkBG9f8aVYZ"
      },
      "execution_count": null,
      "outputs": []
    }
  ]
}