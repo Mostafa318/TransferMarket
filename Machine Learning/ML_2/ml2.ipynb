{
 "cells": [
  {
   "cell_type": "code",
   "execution_count": 19,
   "metadata": {},
   "outputs": [],
   "source": [
    "import pandas as pd \n",
    "import numpy as np \n",
    "from sklearn.linear_model import LogisticRegression\n",
    "from sklearn.preprocessing import MinMaxScaler,StandardScaler\n",
    "from imblearn.over_sampling import SMOTE\n",
    "from sqlalchemy import create_engine\n",
    "import mysql.connector\n",
    "# df =pd.read_parquet('./cleanedFeatures.parquet',engine='pyarrow')\n",
    "# df"
   ]
  },
  {
   "cell_type": "code",
   "execution_count": 20,
   "metadata": {},
   "outputs": [
    {
     "name": "stdout",
     "output_type": "stream",
     "text": [
      "MySQL connection is closed\n"
     ]
    }
   ],
   "source": [
    "try:\n",
    "    connection = mysql.connector.connect(host='localhost',\n",
    "                                             database='project1',\n",
    "                                             user='root',\n",
    "                                             password='MosiSQL$$')\n",
    "    #TotalFeatures\n",
    "    cursor = connection.cursor()\n",
    "    cursor.execute('select * from totalfeatures')\n",
    "    record = cursor.fetchall()\n",
    "    df2=pd.DataFrame(record ,columns=[str(i[0]).replace('_total','') for i in cursor.description])\n",
    "\n",
    "    #AllPlayersFeature\n",
    "    cursor = connection.cursor()\n",
    "    cursor.execute('select * from playersfeature')\n",
    "    record = cursor.fetchall()\n",
    "    df=pd.DataFrame(record ,columns=[i[0] for i in cursor.description])\n",
    "    \n",
    "    \n",
    "except mysql.connector.Error as error:\n",
    "    print(\"Failed to get record from database: {}\".format(error))\n",
    "\n",
    "finally:\n",
    "    if connection.is_connected():\n",
    "        cursor.close()\n",
    "        connection.close()\n",
    "        df=df.drop(columns='id')\n",
    "        df2=df2.drop(columns='id')\n",
    "        print(\"MySQL connection is closed\")\n",
    "\n"
   ]
  },
  {
   "cell_type": "code",
   "execution_count": null,
   "metadata": {},
   "outputs": [],
   "source": [
    "# Just Run This Section And Let Be Done Ignore All Warnings ('_')\n",
    "#DataCleaning Techniques\n",
    "df1 = df.dropna()\n",
    "deletedPosition = ['LIAN Sports Group','LB SPORT & ...','2SAgency','Gelu Rodríguez','SPOCS Global Sports','ROGON','FIRST'\\\n",
    "   'Playeleven', 'Wasserman','Unique Sports Group','SMI Sports ...','CAA Stellar','GG11','InterStarDeporte','YOU FIRST','SEG'\\\n",
    "      'Playeleven','FIRST'] \n",
    "df1 = df1.drop(df1[df1['position'].isin(deletedPosition)].index)\n",
    "\n",
    "len(df1)\n",
    "dfML = df1[['playersId','age','height','position','currentValue','squad','appearances','ppg','goals',\\\n",
    "    'assists','ownGoal','subsituationsOn','subsituationsOff','yellowCards','secondYellowCards'\\\n",
    "        ,'redCards','penalyGoals','minutesPerGoal','minutesPlayed','goalsConceded','cleanSheets']]\n",
    "\n",
    "def changeSquad(x):\n",
    "    if str(x)=='-':\n",
    "        return 0\n",
    "    else: return np.int64(x)\n",
    "dfML['squad'] = dfML['squad'].apply(lambda x: changeSquad(x))\n",
    "\n",
    "def changeAppearances(x):\n",
    "    if str(x)=='-':\n",
    "        return 0\n",
    "    else : return np.int64(x)\n",
    "dfML['appearances'] = dfML['appearances'].apply(lambda x: changeAppearances(x))\n",
    "\n",
    "\n",
    "def changePPG(x):\n",
    "    if str(x)=='-' or str(x)=='0,00':\n",
    "        return 0\n",
    "    else : return  np.float64(x)\n",
    "dfML['ppg'] = dfML['ppg'].apply(lambda x: changePPG(x))\n",
    "\n",
    "\n",
    "def changeGoals(x):\n",
    "    if str(x)=='-' or str(x)=='0,00':\n",
    "        return 0\n",
    "    else : return  np.float64(x)\n",
    "dfML['goals'] = dfML['goals'].apply(lambda x: changeGoals(x))\n",
    "\n",
    "\n",
    "def changeAssists(x):\n",
    "    if str(x)=='-' or str(x)=='goalKeeper' :\n",
    "        return 0\n",
    "    else : return  np.float64(x)\n",
    "dfML['assists'] = dfML['assists'].apply(lambda x: changeAssists(x))\n",
    "\n",
    "\n",
    "\n",
    "def changeOwngoal(x):\n",
    "    if str(x)=='-' :\n",
    "        return 0\n",
    "    else : return  np.float64(x)\n",
    "dfML['ownGoal'] = dfML['ownGoal'].apply(lambda x: changeAssists(x))\n",
    "\n",
    "\n",
    "def changeSubsituationsOn(x):\n",
    "    if str(x)=='-' :\n",
    "        return 0\n",
    "    else : return  np.float64(x)\n",
    "dfML['subsituationsOn'] = dfML['subsituationsOn'].apply(lambda x: changeSubsituationsOn(x))\n",
    "\n",
    "\n",
    "def changeSubsituationsOff(x):\n",
    "    try:\n",
    "        return np.float64(x)\n",
    "    except:\n",
    "        return 0 \n",
    "dfML['subsituationsOff'] = dfML['subsituationsOff'].apply(lambda x: changeSubsituationsOff(x))\n",
    "\n",
    "\n",
    "def changeYellowCards(x):\n",
    "    try:\n",
    "        return np.float64(x)\n",
    "    except:\n",
    "        return 0 \n",
    "dfML['yellowCards'] = dfML['yellowCards'].apply(lambda x: changeYellowCards(x))\n",
    "\n",
    "\n",
    "def changeAll(x):\n",
    "    try:\n",
    "        return np.float64(x)\n",
    "    except:\n",
    "        return 0 \n",
    "dfML['secondYellowCards'] = dfML['secondYellowCards'].apply(lambda x: changeAll(x))\n",
    "\n",
    "def changeMinute(x):\n",
    "    try:\n",
    "        return np.float64(str(x).replace(\"'\",\"\").replace('.',''))\n",
    "    except:\n",
    "        return 0 \n",
    "dfML['redCards'] = dfML['redCards'].apply(lambda x: changeAll(x))\n",
    "dfML['penalyGoals'] = dfML['penalyGoals'].apply(lambda x: changeAll(x))\n",
    "dfML['minutesPerGoal'] = dfML['minutesPerGoal'].apply(lambda x: changeMinute(x))\n",
    "dfML['minutesPlayed'] = dfML['minutesPlayed'].apply(lambda x: changeMinute(x))\n",
    "dfML['goalsConceded'] = dfML['goalsConceded'].apply(lambda x: changeAll(x))\n",
    "dfML['cleanSheets'] = dfML['cleanSheets'].apply(lambda x: changeAll(x))\n",
    "dfML = dfML.drop(labels = dfML[dfML['position'].isin(['Playeleven','SEG'])].index)\n",
    "finalDf = pd.DataFrame(dfML.groupby('playersId').sum())\n",
    "finalDf=finalDf.reset_index()\n",
    "def changeValue(x):\n",
    "    if x!=np.nan and x!=None:\n",
    "        if('k' in str(x)):\n",
    "            try:\n",
    "                return np.float64(str(x).replace('k','').replace('€',''))/1000\n",
    "            except:\n",
    "                #â‚¬400k\n",
    "                return(0.4)\n",
    "        else :\n",
    "            try:\n",
    "                return np.float64(str(x).replace('m','').replace('€',''))\n",
    "            except:\n",
    "                #â‚¬400k\n",
    "                return 0.4\n",
    "    else :\n",
    "        return np.nan\n",
    "def changeHeight(x):\n",
    "    try:\n",
    "        return np.float64(str(x).replace(',','.').replace('m',''))\n",
    "    except:\n",
    "        return 0\n",
    "def changeAge(x):\n",
    "    try:\n",
    "        return np.int64(x)\n",
    "    except:\n",
    "        return 0\n",
    "\n",
    "\n",
    "dfML['height'] = dfML['height'].apply(lambda x : changeHeight(x))\n",
    "dfML['age'] = dfML['age'].apply(lambda x : changeAge(x))\n",
    "height = pd.DataFrame(dfML.groupby('playersId')['height'].agg(['unique'])).reset_index()\n",
    "age = pd.DataFrame(dfML.groupby('playersId')['age'].agg(['unique'])).reset_index()\n",
    "position = pd.DataFrame(dfML.groupby('playersId')['position'].agg(['unique'])).reset_index()\n",
    "position['position'] = position['unique'].apply(lambda x : x[0])\n",
    "height['height'] = height['unique'].apply(lambda x : x[0])\n",
    "age['age'] = age['unique'].apply(lambda x : x[0])\n",
    "dfML['currentValue']=dfML['currentValue'].apply(lambda x : changeValue(x))\n",
    "value = pd.DataFrame(dfML.groupby('playersId')['currentValue'].agg(['unique'])).reset_index()\n",
    "value['marketValue']=value['unique'].apply(lambda x : x[0])\n",
    "finalDf = pd.merge(finalDf,value ,on='playersId').drop(columns=['unique'])\n",
    "finalDf = pd.merge(finalDf,height ,on='playersId').drop(columns=['unique'])\n",
    "finalDf = pd.merge(finalDf,age  ,on='playersId').drop(columns=['unique'])\n",
    "finalDf = pd.merge(finalDf,position  ,on='playersId').drop(columns=['unique'])\n",
    "# finalDf = pd.get_dummies(finalDf, columns = ['position'])\n",
    "# finalDf\n",
    "df =finalDf\n",
    "\n"
   ]
  },
  {
   "cell_type": "code",
   "execution_count": 4,
   "metadata": {},
   "outputs": [],
   "source": [
    "test = df.copy()\n",
    "# df=test"
   ]
  },
  {
   "cell_type": "code",
   "execution_count": 343,
   "metadata": {},
   "outputs": [],
   "source": [
    "# test.position.value_counts()\n",
    "# df=test.copy()\n",
    "# df.position.value_counts()"
   ]
  },
  {
   "cell_type": "code",
   "execution_count": 22,
   "metadata": {},
   "outputs": [
    {
     "name": "stdout",
     "output_type": "stream",
     "text": [
      "Centre-Back           1282\n",
      "Centre-Forward        1013\n",
      "Central Midfield       994\n",
      "Goalkeeper             808\n",
      "Defensive Midfield     565\n",
      "Right-Back             547\n",
      "Left-Back              528\n",
      "Right Winger           503\n",
      "Attacking Midfield     476\n",
      "Left Winger            473\n",
      "Right Midfield          59\n",
      "Second Striker          58\n",
      "Left Midfield           50\n",
      "Attack                   2\n",
      "midfield                 1\n",
      "Name: position, dtype: int64\n",
      "Back              2357\n",
      "Midfield          2145\n",
      "Winger            1036\n",
      "Centre-Forward    1013\n",
      "Goalkeeper         808\n",
      "Name: position, dtype: int64\n"
     ]
    }
   ],
   "source": [
    "print(df.position.value_counts())\n",
    "def labeling(x):\n",
    "    if('Midfield' in str(x)):\n",
    "        return 'Midfield'\n",
    "    elif ('Winger' in str(x)):\n",
    "        return 'Winger'\n",
    "    elif ('Back' in str(x)):\n",
    "        return 'Back'\n",
    "    elif ('Striker' in str(x)):\n",
    "        return 'Winger'\n",
    "    elif ('Attack' in str(x)):\n",
    "        return 'Winger'\n",
    "    elif ('midfield' in str(x)):\n",
    "        return 'Midfield'\n",
    "    else:\n",
    "        return x\n",
    "    \n",
    "df['position'] = df['position'].apply(lambda x: labeling(x))\n",
    "print(df.position.value_counts())"
   ]
  },
  {
   "cell_type": "code",
   "execution_count": 23,
   "metadata": {},
   "outputs": [
    {
     "data": {
      "text/plain": [
       "0    2357\n",
       "3    2145\n",
       "4    1036\n",
       "1    1013\n",
       "2     808\n",
       "Name: position, dtype: int64"
      ]
     },
     "execution_count": 23,
     "metadata": {},
     "output_type": "execute_result"
    }
   ],
   "source": [
    "from sklearn.preprocessing  import LabelEncoder\n",
    "label = LabelEncoder()\n",
    "\n",
    "# after several deploying a model we concluded to remove 5 position in the dataSet  \\ \n",
    "# including [Right Midfield,Second Striker,Left Midfield ,Attack ,midfield]\n",
    "df['position'] = label.fit_transform(df['position'])\n",
    "# df = df.drop(labels = df[df['position'].isin([0,14,7,13,10])].index)\n",
    "df.position.value_counts()\n",
    "\n"
   ]
  },
  {
   "cell_type": "code",
   "execution_count": 300,
   "metadata": {},
   "outputs": [],
   "source": [
    "# df = df.drop(labels = df[df['position'].isin([0,7,5])].index)\n"
   ]
  },
  {
   "cell_type": "code",
   "execution_count": 24,
   "metadata": {},
   "outputs": [],
   "source": [
    "from sklearn.model_selection import train_test_split\n",
    "from sklearn.metrics import f1_score ,r2_score\n",
    "\n",
    "x_train, x_test, y_train, y_test = train_test_split(df.drop(['position','playersId'],axis=1), df['position'], train_size=.80, random_state=42)"
   ]
  },
  {
   "cell_type": "code",
   "execution_count": 31,
   "metadata": {},
   "outputs": [
    {
     "name": "stdout",
     "output_type": "stream",
     "text": [
      "f1_score : 0.795271238973569\n"
     ]
    }
   ],
   "source": [
    "#depoloy a model \n",
    "from sklearn.ensemble import RandomForestClassifier\n",
    "modelForest = RandomForestClassifier(n_estimators = 700 ,bootstrap= False,criterion='log_loss'\\\n",
    "    ,max_features='log2',n_jobs=-1)\n",
    "# finalDf.columns =finalDf.columns.astype(str)\n",
    "# train3 = finalDf\n",
    "# train = train3[:6000]\n",
    "# val = train3[6000:]\n",
    "modelForest.fit(x_train , y_train)\n",
    "modelForest.get_params()\n",
    "# model.score(val.drop(['gender'],axis=1),val['gender'])\n",
    "pred = modelForest.predict(x_test)\n",
    "from sklearn.metrics import recall_score\n",
    "from sklearn.metrics import f1_score\n",
    "print('f1_score :',f1_score(y_test,pred,average='macro'))\n",
    "\n"
   ]
  },
  {
   "cell_type": "code",
   "execution_count": 353,
   "metadata": {},
   "outputs": [],
   "source": [
    "label.inverse_transform(pred).tolist()\n",
    "# df['position'].value_counts()\n"
   ]
  },
  {
   "cell_type": "code",
   "execution_count": null,
   "metadata": {},
   "outputs": [],
   "source": [
    "#we used gridSearch method to find best hyper parameter for Logistic Regression model \n",
    "# i put all the codes and result in LogisticRegressionTuning.ipynb"
   ]
  },
  {
   "cell_type": "code",
   "execution_count": 26,
   "metadata": {},
   "outputs": [
    {
     "name": "stderr",
     "output_type": "stream",
     "text": [
      "C:\\Users\\mosta\\AppData\\Local\\Programs\\Python\\Python310\\lib\\site-packages\\sklearn\\utils\\optimize.py:210: ConvergenceWarning: newton-cg failed to converge. Increase the number of iterations.\n",
      "  warnings.warn(\n"
     ]
    },
    {
     "name": "stdout",
     "output_type": "stream",
     "text": [
      "f1_score metrics of logistic regression classfier on test set : 0.7946470952156166\n",
      "Accuracy of logistic regression classifier on train set: 0.80\n",
      "Accuracy of logistic regression classifier on test set: 0.80\n",
      "Precision of logistic regression classifier on test set: 0.80\n"
     ]
    },
    {
     "name": "stderr",
     "output_type": "stream",
     "text": [
      "C:\\Users\\mosta\\AppData\\Local\\Programs\\Python\\Python310\\lib\\site-packages\\sklearn\\utils\\optimize.py:210: ConvergenceWarning: newton-cg failed to converge. Increase the number of iterations.\n",
      "  warnings.warn(\n"
     ]
    }
   ],
   "source": [
    "from sklearn.metrics import confusion_matrix, precision_score, recall_score, auc,roc_curve\n",
    "from sklearn.preprocessing import MinMaxScaler,StandardScaler\n",
    "# standard = StandardScaler()\n",
    "# minMax=MinMaxScaler()\n",
    "# X_train = minMax.fit_transform(x_train)\n",
    "# X_test = minMax.transform(x_test)\n",
    "model = LogisticRegression(max_iter=200,solver='newton-cg')\n",
    "model.fit(x_train,y_train)\n",
    "value  =model.fit(x_test,y_test)\n",
    "y_pred = model.predict(x_test)\n",
    "print('f1_score metrics of logistic regression classfier on test set :',f1_score(y_test, y_pred,average='macro'))\n",
    "# print(r2_score(y_test , y_pred))\n",
    "print('Accuracy of logistic regression classifier on train set: {:.2f}'.format(model.score(x_train, y_train)))\n",
    "print('Accuracy of logistic regression classifier on test set: {:.2f}'.format(model.score(x_test, y_test)))\n",
    "print('Precision of logistic regression classifier on test set: {:.2f}'.format(precision_score(y_test, y_pred,average='macro')))"
   ]
  },
  {
   "cell_type": "code",
   "execution_count": 25,
   "metadata": {},
   "outputs": [],
   "source": [
    "# label.inverse_transform([0,14,7,13,10])\n",
    "# df = df.drop(labels = df[df['position'].isin([0,14,7,13,10])].index)\n"
   ]
  },
  {
   "cell_type": "code",
   "execution_count": 355,
   "metadata": {},
   "outputs": [
    {
     "data": {
      "text/plain": [
       "0    2357\n",
       "3    2145\n",
       "4    1036\n",
       "1    1013\n",
       "2     808\n",
       "Name: position, dtype: int64"
      ]
     },
     "execution_count": 355,
     "metadata": {},
     "output_type": "execute_result"
    }
   ],
   "source": [
    "df['position'].value_counts()"
   ]
  },
  {
   "cell_type": "code",
   "execution_count": 27,
   "metadata": {},
   "outputs": [
    {
     "name": "stdout",
     "output_type": "stream",
     "text": [
      "              precision    recall  f1-score   support\n",
      "\n",
      "           0       0.86      0.87      0.87       469\n",
      "           1       0.81      0.83      0.82       196\n",
      "           2       1.00      1.00      1.00       150\n",
      "           3       0.70      0.72      0.71       439\n",
      "           4       0.64      0.57      0.60       218\n",
      "\n",
      "    accuracy                           0.79      1472\n",
      "   macro avg       0.80      0.80      0.80      1472\n",
      "weighted avg       0.79      0.79      0.79      1472\n",
      "\n"
     ]
    }
   ],
   "source": [
    "#Using Gradient Boosting \n",
    "from sklearn.metrics import classification_report\n",
    "from sklearn.ensemble import GradientBoostingClassifier\n",
    "gradient_booster = GradientBoostingClassifier(learning_rate=0.1)\n",
    "gradient_booster.fit(x_train,y_train)\n",
    "print(classification_report(y_test,gradient_booster.predict(x_test)))"
   ]
  },
  {
   "cell_type": "code",
   "execution_count": 28,
   "metadata": {},
   "outputs": [
    {
     "name": "stderr",
     "output_type": "stream",
     "text": [
      "[flaml.automl: 05-31 04:14:59] {2599} INFO - task = classification\n",
      "[flaml.automl: 05-31 04:14:59] {2601} INFO - Data split method: stratified\n",
      "[flaml.automl: 05-31 04:14:59] {2604} INFO - Evaluation method: holdout\n",
      "[flaml.automl: 05-31 04:14:59] {2726} INFO - Minimizing error metric: log_loss\n",
      "[flaml.automl: 05-31 04:15:00] {2776} WARNING - No search budget is provided via time_budget or max_iter. Training only one model per estimator. To tune hyperparameters for each estimator, please provide budget either via time_budget or max_iter.\n",
      "[flaml.automl: 05-31 04:15:00] {2870} INFO - List of ML learners in AutoML Run: ['rf', 'lgbm', 'xgboost', 'extra_tree', 'xgb_limitdepth', 'lrl1']\n",
      "[flaml.automl: 05-31 04:15:00] {3166} INFO - iteration 0, current learner rf\n",
      "[flaml.automl: 05-31 04:15:27] {3296} INFO - Estimated sufficient time budget=277556s. Estimated necessary time budget=3199s.\n",
      "[flaml.automl: 05-31 04:15:27] {3343} INFO -  at 27.9s,\testimator rf's best error=0.5276,\tbest estimator rf's best error=0.5276\n",
      "[flaml.automl: 05-31 04:15:27] {3166} INFO - iteration 1, current learner lgbm\n",
      "[flaml.automl: 05-31 04:15:27] {3343} INFO -  at 28.0s,\testimator lgbm's best error=1.4810,\tbest estimator rf's best error=0.5276\n",
      "[flaml.automl: 05-31 04:15:27] {3166} INFO - iteration 2, current learner xgboost\n",
      "C:\\Users\\mosta\\AppData\\Local\\Programs\\Python\\Python310\\lib\\site-packages\\xgboost\\sklearn.py:1421: UserWarning: `use_label_encoder` is deprecated in 1.7.0.\n",
      "  warnings.warn(\"`use_label_encoder` is deprecated in 1.7.0.\")\n",
      "[flaml.automl: 05-31 04:15:27] {3343} INFO -  at 28.1s,\testimator xgboost's best error=1.6072,\tbest estimator rf's best error=0.5276\n",
      "[flaml.automl: 05-31 04:15:27] {3166} INFO - iteration 3, current learner extra_tree\n",
      "[flaml.automl: 05-31 04:15:45] {3343} INFO -  at 45.7s,\testimator extra_tree's best error=0.5174,\tbest estimator extra_tree's best error=0.5174\n",
      "[flaml.automl: 05-31 04:15:45] {3166} INFO - iteration 4, current learner xgb_limitdepth\n",
      "C:\\Users\\mosta\\AppData\\Local\\Programs\\Python\\Python310\\lib\\site-packages\\xgboost\\sklearn.py:1421: UserWarning: `use_label_encoder` is deprecated in 1.7.0.\n",
      "  warnings.warn(\"`use_label_encoder` is deprecated in 1.7.0.\")\n",
      "[flaml.automl: 05-31 04:15:45] {3343} INFO -  at 45.8s,\testimator xgb_limitdepth's best error=1.5543,\tbest estimator extra_tree's best error=0.5174\n",
      "[flaml.automl: 05-31 04:15:45] {3166} INFO - iteration 5, current learner lrl1\n",
      "C:\\Users\\mosta\\AppData\\Local\\Programs\\Python\\Python310\\lib\\site-packages\\sklearn\\linear_model\\_sag.py:350: ConvergenceWarning: The max_iter was reached which means the coef_ did not converge\n",
      "  warnings.warn(\n",
      "[flaml.automl: 05-31 04:15:46] {3343} INFO -  at 46.7s,\testimator lrl1's best error=1.1507,\tbest estimator extra_tree's best error=0.5174\n",
      "[flaml.automl: 05-31 04:16:03] {3602} INFO - retrain extra_tree for 17.4s\n",
      "[flaml.automl: 05-31 04:16:03] {3609} INFO - retrained model: ExtraTreesClassifier(criterion='entropy', max_features=1.0,\n",
      "                     max_leaf_nodes=18344, n_estimators=1369, n_jobs=-1)\n",
      "[flaml.automl: 05-31 04:16:03] {2901} INFO - fit succeeded\n",
      "[flaml.automl: 05-31 04:16:04] {2902} INFO - Time taken to find the best model: 45.69988775253296\n"
     ]
    }
   ],
   "source": [
    "from flaml import AutoML\n",
    "automl = AutoML()\n",
    "automl.fit(x_train, y_train, task='classification')"
   ]
  },
  {
   "cell_type": "code",
   "execution_count": 30,
   "metadata": {},
   "outputs": [
    {
     "name": "stdout",
     "output_type": "stream",
     "text": [
      "f1_score : 0.7977989088729451\n"
     ]
    }
   ],
   "source": [
    "automlPredict = automl.predict(x_test)\n",
    "print('f1_score :',f1_score(y_test,automlPredict,average='macro'))"
   ]
  },
  {
   "cell_type": "code",
   "execution_count": 34,
   "metadata": {},
   "outputs": [
    {
     "name": "stdout",
     "output_type": "stream",
     "text": [
      "similiraty prediction of forest and logistic 0.9086955930734746\n",
      "similiraty prediction of forest and boosting 0.9564945511092209\n",
      "similiraty prediction of logistic and boosting 0.9149776828302294\n",
      "similiraty prediction of automl and boosting 0.9739961875514365\n"
     ]
    }
   ],
   "source": [
    "from numpy.linalg import norm\n",
    "logisticReg = model.predict(x_test)\n",
    "randomForrest = modelForest.predict(x_test)\n",
    "gradiantBoosting = gradient_booster.predict(x_test)\n",
    "cosine = np.dot(randomForrest,logisticReg)/(norm(randomForrest)*norm(logisticReg))\n",
    "print('similiraty prediction of forest and logistic',cosine)\n",
    "cosine = np.dot(randomForrest,gradiantBoosting)/(norm(gradiantBoosting)*norm(randomForrest))\n",
    "print('similiraty prediction of forest and boosting',cosine)\n",
    "cosine = np.dot(logisticReg,gradiantBoosting)/(norm(gradiantBoosting)*norm(logisticReg))\n",
    "print('similiraty prediction of logistic and boosting',cosine)\n",
    "cosine = np.dot(automlPredict,randomForrest)/(norm(randomForrest)*norm(automlPredict))\n",
    "print('similiraty prediction of automl and boosting',cosine)\n"
   ]
  },
  {
   "cell_type": "code",
   "execution_count": 45,
   "metadata": {},
   "outputs": [
    {
     "data": {
      "image/png": "[encoded data removed]",
      "text/plain": [
       "<Figure size 1080x720 with 1 Axes>"
      ]
     },
     "metadata": {
      "needs_background": "light"
     },
     "output_type": "display_data"
    }
   ],
   "source": [
    "import matplotlib.pyplot as plt\n",
    "x = list(range(0, len(x_test)))\n",
    "plt.plot(x[:20], list(logisticReg)[:20], label ='LogisticRegression Predict')\n",
    "plt.plot(x[:20], list(randomForrest)[:20], '-.', label ='RandomForest Predict')\n",
    "plt.plot(x[:20], list(gradiantBoosting)[:20], '*', label ='Boosting Predict')\n",
    "plt.plot(x[:20], list(automlPredict)[:20], '+', label ='automl Predict')\n",
    "\n",
    "plt.xlabel(\"Number of Prediction\")\n",
    "plt.ylabel(\"Value of Prediction\")\n",
    "plt.legend()\n",
    "plt.title('Predictions')\n",
    "plt.rcParams[\"figure.figsize\"] = (10,15)\n",
    "plt.show()"
   ]
  },
  {
   "cell_type": "code",
   "execution_count": 359,
   "metadata": {},
   "outputs": [
    {
     "name": "stdout",
     "output_type": "stream",
     "text": [
      "0.7793226916142921\n"
     ]
    }
   ],
   "source": [
    "# here we used another approach for detecting players situation we use another Tabel \n",
    "from sklearn.model_selection import train_test_split\n",
    "from sklearn.metrics import f1_score ,r2_score\n",
    "from sklearn.preprocessing import StandardScaler,MinMaxScaler,LabelEncoder\n",
    "# df2 = pd.read_parquet('./HoseinData.parquet',engine='pyarrow')\n",
    "label = LabelEncoder()\n",
    "df2['position'] = df2['position'].apply(lambda x: labeling(x))\n",
    "df2['position'] = label.fit_transform(df2['position'])\n",
    "x_train, x_test, y_train, y_test = train_test_split(df2.drop(['position','playersId'],axis=1), df2['position'], train_size=.90, random_state=42)\n",
    "from sklearn.ensemble import RandomForestClassifier\n",
    "modelForest1 = RandomForestClassifier(n_estimators = 700 ,bootstrap= False,criterion='log_loss'\\\n",
    "    ,max_features='log2',n_jobs=-1)\n",
    "# finalDf.columns =finalDf.columns.astype(str)\n",
    "# train3 = finalDf\n",
    "# train = train3[:6000]\n",
    "# val = train3[6000:]\n",
    "modelForest1.fit(x_train , y_train)\n",
    "modelForest1.get_params()\n",
    "# model.score(val.drop(['gender'],axis=1),val['gender'])\n",
    "pred = modelForest1.predict(x_test)\n",
    "from sklearn.metrics import recall_score\n",
    "from sklearn.metrics import f1_score\n",
    "print(f1_score(y_test,pred,average='macro'))"
   ]
  }
 ],
 "metadata": {
  "kernelspec": {
   "display_name": "Python 3 (ipykernel)",
   "language": "python",
   "name": "python3"
  },
  "language_info": {
   "codemirror_mode": {
    "name": "ipython",
    "version": 3
   },
   "file_extension": ".py",
   "mimetype": "text/x-python",
   "name": "python",
   "nbconvert_exporter": "python",
   "pygments_lexer": "ipython3",
   "version": "3.10.5"
  },
  "orig_nbformat": 4
 },
 "nbformat": 4,
 "nbformat_minor": 2
}
